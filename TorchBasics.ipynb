{
  "nbformat": 4,
  "nbformat_minor": 0,
  "metadata": {
    "colab": {
      "name": "TorchBasics.ipynb",
      "provenance": [],
      "include_colab_link": true
    },
    "kernelspec": {
      "name": "python3",
      "display_name": "Python 3"
    }
  },
  "cells": [
    {
      "cell_type": "markdown",
      "metadata": {
        "id": "view-in-github",
        "colab_type": "text"
      },
      "source": [
        "<a href=\"https://colab.research.google.com/github/SaiShivam/Pycaret/blob/master/TorchBasics.ipynb\" target=\"_parent\"><img src=\"https://colab.research.google.com/assets/colab-badge.svg\" alt=\"Open In Colab\"/></a>"
      ]
    },
    {
      "cell_type": "code",
      "metadata": {
        "id": "6FrjPxIKxuCv"
      },
      "source": [
        ""
      ],
      "execution_count": null,
      "outputs": []
    },
    {
      "cell_type": "code",
      "metadata": {
        "id": "Dm3lskyLx1vl"
      },
      "source": [
        "import torch\r\n",
        "\r\n",
        "# Everything in pytorch is based on Tensor operations.\r\n",
        "# A tensor can have different dimensions\r\n",
        "# so it can be 1d, 2d, or even 3d and higher\r\n",
        "\r\n",
        "# scalar, vector, matrix, tensor\r\n",
        "\r\n",
        "# torch.empty(size): uninitiallized"
      ],
      "execution_count": null,
      "outputs": []
    },
    {
      "cell_type": "code",
      "metadata": {
        "colab": {
          "base_uri": "https://localhost:8080/"
        },
        "id": "dsA7tn3Ex7H4",
        "outputId": "da294cb6-6151-4db2-ca5d-196711c5f3b9"
      },
      "source": [
        "x = torch.empty(1) # scalar\r\n",
        "print(x)"
      ],
      "execution_count": null,
      "outputs": [
        {
          "output_type": "stream",
          "text": [
            "tensor([5.2384e-09])\n"
          ],
          "name": "stdout"
        }
      ]
    },
    {
      "cell_type": "code",
      "metadata": {
        "colab": {
          "base_uri": "https://localhost:8080/"
        },
        "id": "-uSoUmXnx-Ax",
        "outputId": "8ad9b55e-edd8-43a6-f5b4-e91c8e9e44bf"
      },
      "source": [
        "x = torch.empty(2,3) # matrix, 2D\r\n",
        "print(x)"
      ],
      "execution_count": null,
      "outputs": [
        {
          "output_type": "stream",
          "text": [
            "tensor([[5.2384e-09, 3.0716e-41, 5.0447e-44],\n",
            "        [0.0000e+00,        nan, 0.0000e+00]])\n"
          ],
          "name": "stdout"
        }
      ]
    },
    {
      "cell_type": "code",
      "metadata": {
        "colab": {
          "base_uri": "https://localhost:8080/"
        },
        "id": "ycdmMpMyyBne",
        "outputId": "0c790d59-5a7a-4481-814d-775a2969fb36"
      },
      "source": [
        "x = torch.empty(2,2,3) # tensor, 3 dimensions\r\n",
        "#x = torch.empty(2,2,2,3) # tensor, 4 dimensions\r\n",
        "print(x)"
      ],
      "execution_count": null,
      "outputs": [
        {
          "output_type": "stream",
          "text": [
            "tensor([[[5.2383e-09, 3.0716e-41, 0.0000e+00],\n",
            "         [0.0000e+00, 0.0000e+00, 0.0000e+00]],\n",
            "\n",
            "        [[0.0000e+00, 0.0000e+00, 0.0000e+00],\n",
            "         [0.0000e+00, 0.0000e+00, 0.0000e+00]]])\n"
          ],
          "name": "stdout"
        }
      ]
    },
    {
      "cell_type": "code",
      "metadata": {
        "colab": {
          "base_uri": "https://localhost:8080/"
        },
        "id": "6pYCNU0VyEcK",
        "outputId": "c0e7e49f-0b7b-4b0a-bdea-e1e61cd7ec0e"
      },
      "source": [
        "# torch.rand(size): random numbers [0, 1]\r\n",
        "x = torch.rand(5, 3)\r\n",
        "print(x)"
      ],
      "execution_count": null,
      "outputs": [
        {
          "output_type": "stream",
          "text": [
            "tensor([[0.4602, 0.4168, 0.4214],\n",
            "        [0.7087, 0.4958, 0.1543],\n",
            "        [0.3908, 0.6223, 0.6982],\n",
            "        [0.5653, 0.3848, 0.9364],\n",
            "        [0.2811, 0.1069, 0.7932]])\n"
          ],
          "name": "stdout"
        }
      ]
    },
    {
      "cell_type": "code",
      "metadata": {
        "colab": {
          "base_uri": "https://localhost:8080/"
        },
        "id": "uR1cv7scyHwC",
        "outputId": "a9c77407-f55d-4c82-886a-a0996957f316"
      },
      "source": [
        "# torch.zeros(size), fill with 0\r\n",
        "# torch.ones(size), fill with 1\r\n",
        "x = torch.zeros(5, 3)\r\n",
        "print(x)\r\n"
      ],
      "execution_count": null,
      "outputs": [
        {
          "output_type": "stream",
          "text": [
            "tensor([[0., 0., 0.],\n",
            "        [0., 0., 0.],\n",
            "        [0., 0., 0.],\n",
            "        [0., 0., 0.],\n",
            "        [0., 0., 0.]])\n"
          ],
          "name": "stdout"
        }
      ]
    },
    {
      "cell_type": "code",
      "metadata": {
        "colab": {
          "base_uri": "https://localhost:8080/"
        },
        "id": "jOcFycpByMc4",
        "outputId": "91f2f33f-0291-45c1-bafb-058e838c1789"
      },
      "source": [
        "# check size\r\n",
        "print(x.size())"
      ],
      "execution_count": null,
      "outputs": [
        {
          "output_type": "stream",
          "text": [
            "torch.Size([5, 3])\n"
          ],
          "name": "stdout"
        }
      ]
    },
    {
      "cell_type": "code",
      "metadata": {
        "colab": {
          "base_uri": "https://localhost:8080/"
        },
        "id": "bF5eEnqyyRhp",
        "outputId": "ec45ad15-2db0-4016-fb56-2532cea5d978"
      },
      "source": [
        "# specify types, float32 default\r\n",
        "x = torch.zeros(5, 3, dtype=torch.float16)\r\n",
        "print(x)"
      ],
      "execution_count": null,
      "outputs": [
        {
          "output_type": "stream",
          "text": [
            "tensor([[0., 0., 0.],\n",
            "        [0., 0., 0.],\n",
            "        [0., 0., 0.],\n",
            "        [0., 0., 0.],\n",
            "        [0., 0., 0.]], dtype=torch.float16)\n"
          ],
          "name": "stdout"
        }
      ]
    },
    {
      "cell_type": "code",
      "metadata": {
        "colab": {
          "base_uri": "https://localhost:8080/"
        },
        "id": "n09KCsSMyIKr",
        "outputId": "9c219fbb-1a53-4def-a009-364c09350e74"
      },
      "source": [
        "# check type\r\n",
        "print(x.dtype)"
      ],
      "execution_count": null,
      "outputs": [
        {
          "output_type": "stream",
          "text": [
            "torch.float16\n"
          ],
          "name": "stdout"
        }
      ]
    },
    {
      "cell_type": "code",
      "metadata": {
        "colab": {
          "base_uri": "https://localhost:8080/"
        },
        "id": "Ckydr433yVX8",
        "outputId": "9e6f7419-a135-4ca1-8cfc-2946ad54f6d3"
      },
      "source": [
        "# construct from data\r\n",
        "x = torch.tensor([5.5, 3])\r\n",
        "print(x.size())"
      ],
      "execution_count": null,
      "outputs": [
        {
          "output_type": "stream",
          "text": [
            "torch.Size([2])\n"
          ],
          "name": "stdout"
        }
      ]
    },
    {
      "cell_type": "code",
      "metadata": {
        "id": "vk1-GQAPykzp"
      },
      "source": [
        "# requires_grad argument\r\n",
        "# This will tell pytorch that it will need to calculate the gradients for this tensor\r\n",
        "# later in your optimization steps\r\n",
        "# i.e. this is a variable in your model that you want to optimize\r\n",
        "x = torch.tensor([5.5, 3], requires_grad=True)"
      ],
      "execution_count": null,
      "outputs": []
    },
    {
      "cell_type": "code",
      "metadata": {
        "id": "poA_RETJymu3"
      },
      "source": [
        "# Operations\r\n",
        "y = torch.rand(2, 2)\r\n",
        "x = torch.rand(2, 2)"
      ],
      "execution_count": null,
      "outputs": []
    },
    {
      "cell_type": "code",
      "metadata": {
        "id": "sBkN66odyo9q"
      },
      "source": [
        "# elementwise addition\r\n",
        "z = x + y\r\n",
        "# torch.add(x,y)"
      ],
      "execution_count": null,
      "outputs": []
    },
    {
      "cell_type": "code",
      "metadata": {
        "id": "LYCsIi2wyr6S"
      },
      "source": [
        "\r\n",
        "# in place addition, everythin with a trailing underscore is an inplace operation\r\n",
        "# i.e. it will modify the variable\r\n",
        "# y.add_(x)"
      ],
      "execution_count": null,
      "outputs": []
    },
    {
      "cell_type": "code",
      "metadata": {
        "id": "F7i_TKtiyuIR"
      },
      "source": [
        "# substraction\r\n",
        "z = x - y\r\n",
        "z = torch.sub(x, y)"
      ],
      "execution_count": null,
      "outputs": []
    },
    {
      "cell_type": "code",
      "metadata": {
        "id": "lfWzQv1Kyu83"
      },
      "source": [
        "# multiplication\r\n",
        "z = x * y\r\n",
        "z = torch.mul(x,y)"
      ],
      "execution_count": null,
      "outputs": []
    },
    {
      "cell_type": "code",
      "metadata": {
        "id": "X266d9KGyw_n"
      },
      "source": [
        "# division\r\n",
        "z = x / y\r\n",
        "z = torch.div(x,y)"
      ],
      "execution_count": null,
      "outputs": []
    },
    {
      "cell_type": "code",
      "metadata": {
        "colab": {
          "base_uri": "https://localhost:8080/"
        },
        "id": "hd-g9IOuyy4Z",
        "outputId": "bcd75d3c-7a18-4835-f055-5336425a5c73"
      },
      "source": [
        "# Slicing\r\n",
        "x = torch.rand(5,3)\r\n",
        "print(x)\r\n",
        "print(x[:, 0]) # all rows, column 0\r\n",
        "print(x[1, :]) # row 1, all columns\r\n",
        "print(x[1,1]) # element at 1, 1"
      ],
      "execution_count": null,
      "outputs": [
        {
          "output_type": "stream",
          "text": [
            "tensor([[0.1271, 0.5358, 0.3445],\n",
            "        [0.7621, 0.5163, 0.5919],\n",
            "        [0.9748, 0.0735, 0.1327],\n",
            "        [0.6679, 0.9284, 0.7219],\n",
            "        [0.5662, 0.4239, 0.1776]])\n",
            "tensor([0.1271, 0.7621, 0.9748, 0.6679, 0.5662])\n",
            "tensor([0.7621, 0.5163, 0.5919])\n",
            "tensor(0.5163)\n"
          ],
          "name": "stdout"
        }
      ]
    },
    {
      "cell_type": "code",
      "metadata": {
        "colab": {
          "base_uri": "https://localhost:8080/"
        },
        "id": "cWCm3pNZy3EE",
        "outputId": "c2b9abe5-ff63-42a0-e255-c102d85c655f"
      },
      "source": [
        "\r\n",
        "# Get the actual value if only 1 element in your tensor\r\n",
        "print(x[1,1].item())"
      ],
      "execution_count": null,
      "outputs": [
        {
          "output_type": "stream",
          "text": [
            "0.5163143873214722\n"
          ],
          "name": "stdout"
        }
      ]
    },
    {
      "cell_type": "code",
      "metadata": {
        "colab": {
          "base_uri": "https://localhost:8080/"
        },
        "id": "jehrVFTwy5E5",
        "outputId": "480a4a59-ce96-4870-9e4f-68014edeaeef"
      },
      "source": [
        "# Reshape with torch.view()\r\n",
        "x = torch.randn(4, 4)\r\n",
        "y = x.view(16)\r\n",
        "z = x.view(-1, 8)  # the size -1 is inferred from other dimensions\r\n",
        "# if -1 it pytorch will automatically determine the necessary size\r\n",
        "print(x.size(), y.size(), z.size())"
      ],
      "execution_count": null,
      "outputs": [
        {
          "output_type": "stream",
          "text": [
            "torch.Size([4, 4]) torch.Size([16]) torch.Size([2, 8])\n"
          ],
          "name": "stdout"
        }
      ]
    },
    {
      "cell_type": "code",
      "metadata": {
        "colab": {
          "base_uri": "https://localhost:8080/"
        },
        "id": "g517SuS2y7Sn",
        "outputId": "1990bc9e-afee-43a0-f1ca-bffb6e08d4cb"
      },
      "source": [
        "\r\n",
        "# Numpy\r\n",
        "# Converting a Torch Tensor to a NumPy array and vice versa is very easy\r\n",
        "a = torch.ones(5)\r\n",
        "print(a)"
      ],
      "execution_count": null,
      "outputs": [
        {
          "output_type": "stream",
          "text": [
            "tensor([1., 1., 1., 1., 1.])\n"
          ],
          "name": "stdout"
        }
      ]
    },
    {
      "cell_type": "code",
      "metadata": {
        "colab": {
          "base_uri": "https://localhost:8080/"
        },
        "id": "qbM2Zu7jy-Oq",
        "outputId": "ec7546a7-e807-4995-8a3a-1acdd1f577de"
      },
      "source": [
        "# torch to numpy with .numpy()\r\n",
        "b = a.numpy()\r\n",
        "print(b)\r\n",
        "print(type(b))\r\n"
      ],
      "execution_count": null,
      "outputs": [
        {
          "output_type": "stream",
          "text": [
            "[1. 1. 1. 1. 1.]\n",
            "<class 'numpy.ndarray'>\n"
          ],
          "name": "stdout"
        }
      ]
    },
    {
      "cell_type": "code",
      "metadata": {
        "colab": {
          "base_uri": "https://localhost:8080/"
        },
        "id": "Cn33XicAzADS",
        "outputId": "afd80371-c2e6-4794-fac2-ac9e949e95ae"
      },
      "source": [
        "# Carful: If the Tensor is on the CPU (not the GPU),\r\n",
        "# both objects will share the same memory location, so changing one\r\n",
        "# will also change the other\r\n",
        "a.add_(1)\r\n",
        "print(a)\r\n",
        "print(b)"
      ],
      "execution_count": null,
      "outputs": [
        {
          "output_type": "stream",
          "text": [
            "tensor([2., 2., 2., 2., 2.])\n",
            "[2. 2. 2. 2. 2.]\n"
          ],
          "name": "stdout"
        }
      ]
    },
    {
      "cell_type": "code",
      "metadata": {
        "colab": {
          "base_uri": "https://localhost:8080/"
        },
        "id": "Uq4-GqFfzCy4",
        "outputId": "d6256099-d088-4275-faab-1280675a8474"
      },
      "source": [
        "\r\n",
        "# numpy to torch with .from_numpy(x)\r\n",
        "import numpy as np\r\n",
        "a = np.ones(5)\r\n",
        "b = torch.from_numpy(a)\r\n",
        "print(a)\r\n",
        "print(b)"
      ],
      "execution_count": null,
      "outputs": [
        {
          "output_type": "stream",
          "text": [
            "[1. 1. 1. 1. 1.]\n",
            "tensor([1., 1., 1., 1., 1.], dtype=torch.float64)\n"
          ],
          "name": "stdout"
        }
      ]
    },
    {
      "cell_type": "code",
      "metadata": {
        "colab": {
          "base_uri": "https://localhost:8080/"
        },
        "id": "5UIqF2rnzEnB",
        "outputId": "0c76025c-5ba9-43f9-8435-78a058d5871b"
      },
      "source": [
        "# again be careful when modifying\r\n",
        "a += 1\r\n",
        "print(a)\r\n",
        "print(b)\r\n"
      ],
      "execution_count": null,
      "outputs": [
        {
          "output_type": "stream",
          "text": [
            "[2. 2. 2. 2. 2.]\n",
            "tensor([2., 2., 2., 2., 2.], dtype=torch.float64)\n"
          ],
          "name": "stdout"
        }
      ]
    },
    {
      "cell_type": "code",
      "metadata": {
        "id": "yNWBF6aqyfj_"
      },
      "source": [
        "\r\n",
        "# by default all tensors are created on the CPU,\r\n",
        "# but you can also move them to the GPU (only if it's available )\r\n",
        "if torch.cuda.is_available():\r\n",
        "    device = torch.device(\"cuda\")          # a CUDA device object\r\n",
        "    y = torch.ones_like(x, device=device)  # directly create a tensor on GPU\r\n",
        "    x = x.to(device)                       # or just use strings ``.to(\"cuda\")``\r\n",
        "    z = x + y\r\n",
        "    # z = z.numpy() # not possible because numpy cannot handle GPU tenors\r\n",
        "    # move to CPU again\r\n",
        "    z.to(\"cpu\")       # ``.to`` can also change dtype together!\r\n",
        "    # z = z.numpy()"
      ],
      "execution_count": null,
      "outputs": []
    }
  ]
}